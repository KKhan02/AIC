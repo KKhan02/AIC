{
 "cells": [
  {
   "cell_type": "code",
   "execution_count": 13,
   "metadata": {},
   "outputs": [],
   "source": [
    "class student():\n",
    "#     name\n",
    "#     course\n",
    "#     course_fee\n",
    "#     attendingClass\n",
    "#     submittingFee\n",
    "#     appearingExam\n",
    "#     Attributes/Properties\n",
    "    def __init__(self,name,age,course,fee):\n",
    "        self.name = name\n",
    "        self.age = age\n",
    "        self.course = course\n",
    "        self.fee = fee\n",
    "#     Behaviours\n",
    "    def attendingClass(self):\n",
    "        print(f\"{self.name} is of {self.age} attending class of {self.course}\")\n",
    "    "
   ]
  },
  {
   "cell_type": "code",
   "execution_count": 14,
   "metadata": {},
   "outputs": [],
   "source": [
    "st1 = student(\"Khuzaim\",19,\"AIC and IOT\",0)"
   ]
  },
  {
   "cell_type": "code",
   "execution_count": 15,
   "metadata": {},
   "outputs": [
    {
     "name": "stdout",
     "output_type": "stream",
     "text": [
      "Khuzaim is of 19 attending class of AIC and IOT\n"
     ]
    }
   ],
   "source": [
    "st1.attendingClass()"
   ]
  },
  {
   "cell_type": "code",
   "execution_count": 16,
   "metadata": {},
   "outputs": [
    {
     "data": {
      "text/plain": [
       "'AIC and IOT'"
      ]
     },
     "execution_count": 16,
     "metadata": {},
     "output_type": "execute_result"
    }
   ],
   "source": [
    "st1.course"
   ]
  },
  {
   "cell_type": "code",
   "execution_count": 17,
   "metadata": {},
   "outputs": [],
   "source": [
    "dic1 = {\"name\":[\"w\",\"e\",\"r\",\"t\"]}\n",
    "dic2 = {\"nums\":[1,2,3,4]}\n",
    "\n",
    "mydic = {\"myd1\":dic1,\"myd2\":dic2}"
   ]
  },
  {
   "cell_type": "code",
   "execution_count": 18,
   "metadata": {},
   "outputs": [
    {
     "data": {
      "text/plain": [
       "{'name': ['w', 'e', 'r', 't']}"
      ]
     },
     "execution_count": 18,
     "metadata": {},
     "output_type": "execute_result"
    }
   ],
   "source": [
    "mydic[\"myd1\"]"
   ]
  },
  {
   "cell_type": "code",
   "execution_count": 21,
   "metadata": {},
   "outputs": [
    {
     "data": {
      "text/plain": [
       "'w'"
      ]
     },
     "execution_count": 21,
     "metadata": {},
     "output_type": "execute_result"
    }
   ],
   "source": [
    "mydic[\"myd1\"][\"name\"][0]"
   ]
  },
  {
   "cell_type": "code",
   "execution_count": null,
   "metadata": {},
   "outputs": [],
   "source": []
  }
 ],
 "metadata": {
  "kernelspec": {
   "display_name": "Python 3",
   "language": "python",
   "name": "python3"
  },
  "language_info": {
   "codemirror_mode": {
    "name": "ipython",
    "version": 3
   },
   "file_extension": ".py",
   "mimetype": "text/x-python",
   "name": "python",
   "nbconvert_exporter": "python",
   "pygments_lexer": "ipython3",
   "version": "3.7.6"
  }
 },
 "nbformat": 4,
 "nbformat_minor": 4
}
