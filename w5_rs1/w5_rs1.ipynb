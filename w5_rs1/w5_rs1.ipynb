{
 "cells": [
  {
   "cell_type": "code",
   "execution_count": 1,
   "metadata": {},
   "outputs": [
    {
     "data": {
      "text/plain": [
       "90"
      ]
     },
     "execution_count": 1,
     "metadata": {},
     "output_type": "execute_result"
    }
   ],
   "source": [
    "#    0    1   2  3  4\n",
    "l1 = [\"A\",\"7ab\",78,90,0]\n",
    "#    -5   -4   -3 -2 -1\n",
    "\n",
    "l1[-2]"
   ]
  },
  {
   "cell_type": "code",
   "execution_count": 2,
   "metadata": {},
   "outputs": [
    {
     "data": {
      "text/plain": [
       "{'name': 'Khuzaim',\n",
       " 'fname': 'Imran',\n",
       " 'course': 'AI and IOT',\n",
       " 'roll Number': 1234}"
      ]
     },
     "execution_count": 2,
     "metadata": {},
     "output_type": "execute_result"
    }
   ],
   "source": [
    "dic1 = {\n",
    "    \"name\":\"Khuzaim\",\n",
    "    \"fname\":\"Imran\",\n",
    "    \"course\":\"AI and IOT\",\n",
    "    \"roll Number\":1234,\n",
    "}\n",
    "\n",
    "dic1"
   ]
  },
  {
   "cell_type": "code",
   "execution_count": 3,
   "metadata": {},
   "outputs": [
    {
     "data": {
      "text/plain": [
       "'AI and IOT'"
      ]
     },
     "execution_count": 3,
     "metadata": {},
     "output_type": "execute_result"
    }
   ],
   "source": [
    "dic1[\"course\"]"
   ]
  },
  {
   "cell_type": "code",
   "execution_count": 5,
   "metadata": {},
   "outputs": [
    {
     "name": "stdout",
     "output_type": "stream",
     "text": [
      "3\n"
     ]
    }
   ],
   "source": [
    "a = int(input(\"Enter a number mathafacka\"))\n",
    "b = int(input(\"Enter another number mathafacka\"))\n",
    "\n",
    "print(a+b)"
   ]
  },
  {
   "cell_type": "code",
   "execution_count": 6,
   "metadata": {},
   "outputs": [
    {
     "data": {
      "text/plain": [
       "4220180953291"
      ]
     },
     "execution_count": 6,
     "metadata": {},
     "output_type": "execute_result"
    }
   ],
   "source": [
    "a = input(\"Enter your CNIC\")\n",
    "int(\"\".join([x for x in a if str.isnumeric(x)]))"
   ]
  },
  {
   "cell_type": "code",
   "execution_count": 9,
   "metadata": {},
   "outputs": [
    {
     "data": {
      "text/plain": [
       "'Khuzaim'"
      ]
     },
     "execution_count": 9,
     "metadata": {},
     "output_type": "execute_result"
    }
   ],
   "source": [
    "dic1 = {\n",
    "    \"name\":\"Khuzaim\",\n",
    "    \"fname\":\"Imran\",\n",
    "    \"course\":\"AI and IOT\",\n",
    "    \"roll Number\":1234,\n",
    "}\n",
    "\n",
    "a = input(\"Enter Field name\")\n",
    "dic1.get(a)"
   ]
  },
  {
   "cell_type": "code",
   "execution_count": 11,
   "metadata": {},
   "outputs": [
    {
     "data": {
      "text/plain": [
       "{'name': 'Khuzaim Khan',\n",
       " 'fname': 'Imran',\n",
       " 'course': 'AI and IOT',\n",
       " 'roll Number': 1234}"
      ]
     },
     "execution_count": 11,
     "metadata": {},
     "output_type": "execute_result"
    }
   ],
   "source": [
    "dic1 = {\n",
    "    \"name\":\"Khuzaim\",\n",
    "    \"fname\":\"Imran\",\n",
    "    \"course\":\"AI and IOT\",\n",
    "    \"roll Number\":1234,\n",
    "}\n",
    "\n",
    "a = input(\"Enter your name: \")\n",
    "dic1[\"name\"] = a\n",
    "dic1\n"
   ]
  },
  {
   "cell_type": "code",
   "execution_count": 12,
   "metadata": {},
   "outputs": [
    {
     "data": {
      "text/plain": [
       "{'Meow': 'Kitty Kat'}"
      ]
     },
     "execution_count": 12,
     "metadata": {},
     "output_type": "execute_result"
    }
   ],
   "source": [
    "dic2 = {}\n",
    "\n",
    "k = input(\"Input a New Key\")\n",
    "v = input(\"Enter New Value\")\n",
    "\n",
    "dic2[k] = v\n",
    "\n",
    "dic2"
   ]
  },
  {
   "cell_type": "code",
   "execution_count": 13,
   "metadata": {},
   "outputs": [],
   "source": [
    "dic_while = {}\n",
    "while True:\n",
    "    k = input(\"Input a New Key\")\n",
    "    v = input(\"Enter New Value\")\n",
    "    if k == \"q\" or v == \"q\":\n",
    "        break\n",
    "    dic_while[k] = v\n"
   ]
  },
  {
   "cell_type": "code",
   "execution_count": 14,
   "metadata": {},
   "outputs": [
    {
     "data": {
      "text/plain": [
       "{'k1': 'v1', 'k2': 'v2', 'k3': 'v3'}"
      ]
     },
     "execution_count": 14,
     "metadata": {},
     "output_type": "execute_result"
    }
   ],
   "source": [
    "dic_while"
   ]
  },
  {
   "cell_type": "code",
   "execution_count": 18,
   "metadata": {},
   "outputs": [
    {
     "name": "stdout",
     "output_type": "stream",
     "text": [
      "\n",
      "    PIAIC Student Card\n",
      "    ROll NO 1\n",
      "    Name Mewo\n",
      "    Course AI\n",
      "    \n",
      "\n",
      "\n",
      "    PIAIC Student Card\n",
      "    ROll NO 2\n",
      "    Name Woof\n",
      "    Course IOT\n",
      "    \n",
      "\n",
      "\n",
      "    PIAIC Student Card\n",
      "    ROll NO 3\n",
      "    Name Bork\n",
      "    Course CNC\n",
      "    \n",
      "\n"
     ]
    }
   ],
   "source": [
    "database = [[1,\"Mewo\",\"AI\"],\n",
    "            [2,\"Woof\",\"IOT\"],\n",
    "            [3,\"Bork\",\"CNC\"],]\n",
    "for r in database:\n",
    "    card = '''\n",
    "    PIAIC Student Card\n",
    "    ROll NO {0}\n",
    "    Name {1}\n",
    "    Course {2}\n",
    "    '''.format(r[0],r[1],r[2])\n",
    "    print(card)\n",
    "    print()"
   ]
  },
  {
   "cell_type": "code",
   "execution_count": null,
   "metadata": {},
   "outputs": [],
   "source": []
  }
 ],
 "metadata": {
  "kernelspec": {
   "display_name": "Python 3.6.9 64-bit",
   "language": "python",
   "name": "python36964bit583a7a3480be46d4a4810fafef496e4a"
  },
  "language_info": {
   "codemirror_mode": {
    "name": "ipython",
    "version": 3
   },
   "file_extension": ".py",
   "mimetype": "text/x-python",
   "name": "python",
   "nbconvert_exporter": "python",
   "pygments_lexer": "ipython3",
   "version": "3.6.9-final"
  }
 },
 "nbformat": 4,
 "nbformat_minor": 4
}
