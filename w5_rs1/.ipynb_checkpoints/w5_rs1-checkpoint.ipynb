{
 "cells": [
  {
   "cell_type": "code",
   "execution_count": 1,
   "metadata": {},
   "outputs": [
    {
     "output_type": "execute_result",
     "data": {
      "text/plain": "90"
     },
     "metadata": {},
     "execution_count": 1
    }
   ],
   "source": [
    "#    0    1   2  3  4\n",
    "l1 = [\"A\",\"7ab\",78,90,0]\n",
    "#    -5   -4   -3 -2 -1\n",
    "\n",
    "l1[-2]"
   ]
  },
  {
   "cell_type": "code",
   "execution_count": 2,
   "metadata": {},
   "outputs": [
    {
     "output_type": "execute_result",
     "data": {
      "text/plain": "{'name': 'Khuzaim',\n 'fname': 'Imran',\n 'course': 'AI and IOT',\n 'roll Number': 1234}"
     },
     "metadata": {},
     "execution_count": 2
    }
   ],
   "source": [
    "dic1 = {\n",
    "    \"name\":\"Khuzaim\",\n",
    "    \"fname\":\"Imran\",\n",
    "    \"course\":\"AI and IOT\",\n",
    "    \"roll Number\":1234,\n",
    "}\n",
    "\n",
    "dic1"
   ]
  },
  {
   "cell_type": "code",
   "execution_count": 3,
   "metadata": {},
   "outputs": [
    {
     "output_type": "execute_result",
     "data": {
      "text/plain": "'AI and IOT'"
     },
     "metadata": {},
     "execution_count": 3
    }
   ],
   "source": [
    "dic1[\"course\"]"
   ]
  },
  {
   "cell_type": "code",
   "execution_count": 5,
   "metadata": {},
   "outputs": [
    {
     "output_type": "stream",
     "name": "stdout",
     "text": "3\n"
    }
   ],
   "source": [
    "a = int(input(\"Enter a number mathafacka\"))\n",
    "b = int(input(\"Enter another number mathafacka\"))\n",
    "\n",
    "print(a+b)"
   ]
  },
  {
   "cell_type": "code",
   "execution_count": 6,
   "metadata": {},
   "outputs": [
    {
     "output_type": "execute_result",
     "data": {
      "text/plain": "4220180953291"
     },
     "metadata": {},
     "execution_count": 6
    }
   ],
   "source": [
    "a = input(\"Enter your CNIC\")\n",
    "int(\"\".join([x for x in a if str.isnumeric(x)]))"
   ]
  },
  {
   "cell_type": "code",
   "execution_count": 9,
   "metadata": {},
   "outputs": [
    {
     "output_type": "execute_result",
     "data": {
      "text/plain": "'Khuzaim'"
     },
     "metadata": {},
     "execution_count": 9
    }
   ],
   "source": [
    "dic1 = {\n",
    "    \"name\":\"Khuzaim\",\n",
    "    \"fname\":\"Imran\",\n",
    "    \"course\":\"AI and IOT\",\n",
    "    \"roll Number\":1234,\n",
    "}\n",
    "\n",
    "a = input(\"Enter Field name\")\n",
    "dic1.get(a)"
   ]
  },
  {
   "cell_type": "code",
   "execution_count": 11,
   "metadata": {},
   "outputs": [
    {
     "output_type": "execute_result",
     "data": {
      "text/plain": "{'name': 'Khuzaim Khan',\n 'fname': 'Imran',\n 'course': 'AI and IOT',\n 'roll Number': 1234}"
     },
     "metadata": {},
     "execution_count": 11
    }
   ],
   "source": [
    "dic1 = {\n",
    "    \"name\":\"Khuzaim\",\n",
    "    \"fname\":\"Imran\",\n",
    "    \"course\":\"AI and IOT\",\n",
    "    \"roll Number\":1234,\n",
    "}\n",
    "\n",
    "a = input(\"Enter your name: \")\n",
    "dic1[\"name\"] = a\n",
    "dic1\n"
   ]
  },
  {
   "cell_type": "code",
   "execution_count": 12,
   "metadata": {},
   "outputs": [
    {
     "output_type": "execute_result",
     "data": {
      "text/plain": "{'Meow': 'Kitty Kat'}"
     },
     "metadata": {},
     "execution_count": 12
    }
   ],
   "source": [
    "dic2 = {}\n",
    "\n",
    "k = input(\"Input a New Key\")\n",
    "v = input(\"Enter New Value\")\n",
    "\n",
    "dic2[k] = v\n",
    "\n",
    "dic2"
   ]
  },
  {
   "cell_type": "code",
   "execution_count": 13,
   "metadata": {},
   "outputs": [],
   "source": [
    "dic_while = {}\n",
    "while True:\n",
    "    k = input(\"Input a New Key\")\n",
    "    v = input(\"Enter New Value\")\n",
    "    if k == \"q\" or v == \"q\":\n",
    "        break\n",
    "    dic_while[k] = v\n"
   ]
  },
  {
   "cell_type": "code",
   "execution_count": 14,
   "metadata": {},
   "outputs": [
    {
     "output_type": "execute_result",
     "data": {
      "text/plain": "{'k1': 'v1', 'k2': 'v2', 'k3': 'v3'}"
     },
     "metadata": {},
     "execution_count": 14
    }
   ],
   "source": [
    "dic_while"
   ]
  },
  {
   "cell_type": "code",
   "execution_count": 18,
   "metadata": {},
   "outputs": [
    {
     "output_type": "stream",
     "name": "stdout",
     "text": "\n    PIAIC Student Card\n    ROll NO 1\n    Name Mewo\n    Course AI\n    \n\n\n    PIAIC Student Card\n    ROll NO 2\n    Name Woof\n    Course IOT\n    \n\n\n    PIAIC Student Card\n    ROll NO 3\n    Name Bork\n    Course CNC\n    \n\n"
    }
   ],
   "source": [
    "database = [[1,\"Mewo\",\"AI\"],\n",
    "            [2,\"Woof\",\"IOT\"],\n",
    "            [3,\"Bork\",\"CNC\"],]\n",
    "for r in database:\n",
    "    card = '''\n",
    "    PIAIC Student Card\n",
    "    ROll NO {0}\n",
    "    Name {1}\n",
    "    Course {2}\n",
    "    '''.format(r[0],r[1],r[2])\n",
    "    print(card)\n",
    "    print()"
   ]
  },
  {
   "cell_type": "code",
   "execution_count": null,
   "metadata": {},
   "outputs": [],
   "source": []
  }
 ],
 "metadata": {
  "language_info": {
   "codemirror_mode": {
    "name": "ipython",
    "version": 3
   },
   "file_extension": ".py",
   "mimetype": "text/x-python",
   "name": "python",
   "nbconvert_exporter": "python",
   "pygments_lexer": "ipython3",
   "version": "3.6.9-final"
  },
  "orig_nbformat": 2,
  "kernelspec": {
   "name": "python36964bit583a7a3480be46d4a4810fafef496e4a",
   "display_name": "Python 3.6.9 64-bit"
  }
 },
 "nbformat": 4,
 "nbformat_minor": 2
}