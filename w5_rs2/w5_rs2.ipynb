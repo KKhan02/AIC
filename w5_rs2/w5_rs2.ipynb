{
 "cells": [
  {
   "cell_type": "code",
   "execution_count": 5,
   "metadata": {},
   "outputs": [
    {
     "output_type": "stream",
     "name": "stdout",
     "text": "Rooms 3\nSize 200\nArea Rating 3\nLocation 2\nAge 30\nCondition 4\nPrice 75\n"
    }
   ],
   "source": [
    "housingData = [[2,3,4],[120,200,300],[3,3,3],[1,2,3],[20,30,40],[4,4,3],[45,75,85]]\n",
    "housingDataLabels = [\"Rooms\",\"Size\",\"Area Rating\",\"Location\",\"Age\",\"Condition\",\"Price\"]\n",
    "\n",
    "houseIndex = 1\n",
    "\n",
    "for i in range(len(housingData)):\n",
    "    print(housingDataLabels[i],housingData[i][houseIndex])"
   ]
  },
  {
   "cell_type": "code",
   "execution_count": null,
   "metadata": {},
   "outputs": [],
   "source": []
  }
 ],
 "metadata": {
  "language_info": {
   "codemirror_mode": {
    "name": "ipython",
    "version": 3
   },
   "file_extension": ".py",
   "mimetype": "text/x-python",
   "name": "python",
   "nbconvert_exporter": "python",
   "pygments_lexer": "ipython3",
   "version": "3.6.9-final"
  },
  "orig_nbformat": 2,
  "kernelspec": {
   "name": "python36964bit583a7a3480be46d4a4810fafef496e4a",
   "display_name": "Python 3.6.9 64-bit"
  }
 },
 "nbformat": 4,
 "nbformat_minor": 2
}