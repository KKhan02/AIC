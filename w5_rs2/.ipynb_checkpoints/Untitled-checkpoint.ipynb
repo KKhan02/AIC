{
 "cells": [
  {
   "cell_type": "code",
   "execution_count": 1,
   "metadata": {},
   "outputs": [
    {
     "name": "stdout",
     "output_type": "stream",
     "text": [
      "['gender', 'parental level of education', 'test preparation course', 'math score', 'reading score', 'writing score']\n"
     ]
    }
   ],
   "source": [
    "import csv\n",
    "with open('StudentsPerformance2.csv') as f:\n",
    "  reader = csv.reader(f)\n",
    "  row = next(reader)  # gets the first line\n",
    "  # now do something here \n",
    "  # if first row is the header, then you can do one more next() to get the next row:\n",
    "  # row2 = next(f)\n",
    "  row.pop(0)\n",
    "  row1 = next(reader)\n",
    "  row1.pop(0)\n",
    "  row2 = next(reader)\n",
    "  row2.pop(0)\n",
    "  row3 = next(reader)\n",
    "  row3.pop(0)\n",
    "  row4 = next(reader)\n",
    "  row4.pop(0)\n",
    "  row5 = next(reader)\n",
    "  row5.pop(0)\n",
    "\n",
    "labels = []\n",
    "labels.append(row.pop(0))\n",
    "labels.append(row1.pop(0))\n",
    "labels.append(row2.pop(0))\n",
    "labels.append(row3.pop(0))\n",
    "labels.append(row4.pop(0))\n",
    "labels.append(row5.pop(0))\n",
    "\n",
    "print(labels)"
   ]
  },
  {
   "cell_type": "code",
   "execution_count": 2,
   "metadata": {},
   "outputs": [],
   "source": [
    "male_math = []\n",
    "female_math=[]\n",
    "\n",
    "for index in range(len(row3)):\n",
    "  if row[index] == \"male\":\n",
    "    male_math.append(int(row3[index]))\n",
    "  elif row[index] == \"female\":\n",
    "    female_math.append(int(row3[index]))\n",
    "\n",
    "male_read = []\n",
    "female_read=[]\n",
    "\n",
    "for index in range(len(row4)):\n",
    "  if row[index] == \"male\":\n",
    "    male_read.append(int(row4[index]))\n",
    "  elif row[index] == \"female\":\n",
    "    female_read.append(int(row4[index]))\n",
    "\n",
    "\n",
    "male_write = []\n",
    "female_write=[]\n",
    "\n",
    "for index in range(len(row3)):\n",
    "  if row[index] == \"male\":\n",
    "    male_write.append(int(row5[index]))\n",
    "  elif row[index] == \"female\":\n",
    "    female_write.append(int(row5[index]))\n"
   ]
  },
  {
   "cell_type": "code",
   "execution_count": 3,
   "metadata": {},
   "outputs": [
    {
     "name": "stdin",
     "output_type": "stream",
     "text": [
      "Enter course name math\n"
     ]
    },
    {
     "name": "stdout",
     "output_type": "stream",
     "text": [
      "The average performance of female students in math is 63.633204633204635\n",
      "The average performance of male students in math is 68.72821576763485\n",
      "Males are performing better in maths\n"
     ]
    }
   ],
   "source": [
    "StudentsPerformance=[row,row1,row2,row3,row4,row5]\n",
    "\n",
    "user_input = input(\"Enter course name\")\n",
    "math_average_f = sum(female_math)/len(female_math)\n",
    "math_average_m = sum(male_math)/len(male_math)\n",
    "\n",
    "read_average_f = sum(female_read)/len(female_read)\n",
    "read_average_m = sum(male_read)/len(male_read)\n",
    "\n",
    "write_average_f = sum(female_write)/len(female_write)\n",
    "write_average_m = sum(male_write)/len(male_write)\n",
    "\n",
    "\n",
    "if user_input == \"math\":\n",
    "  print(f\"The average performance of female students in {user_input} is {math_average_f}\")\n",
    "  print(f\"The average performance of male students in {user_input} is {math_average_m}\")\n",
    "  if math_average_f >= math_average_m:\n",
    "    print(\"Therefore, females are performing better in maths\")\n",
    "  else:\n",
    "    print(\"Males are performing better in maths\")\n",
    "\n",
    "elif user_input == \"read\":\n",
    "  print(f\"The average performance of female students in {user_input} is {read_average_f}\")\n",
    "  print(f\"The average performance of male students in {user_input} is {read_average_m}\")\n",
    "  if read_average_f >= read_average_m:\n",
    "    print(f\"Therefore, females are performing better in {user_input}\")\n",
    "  else:\n",
    "    print(f\"Males are performing better in {user_input}\")\n",
    "  \n",
    "elif user_input == \"write\":\n",
    "  print(f\"The average performance of female students in {user_input} is {write_average_f}\")\n",
    "  print(f\"The average performance of male students in {user_input} is {write_average_m}\")\n",
    "  if write_average_f >= write_average_m:\n",
    "    print(f\"Therefore, females are performing better in {user_input}\")\n",
    "  else:\n",
    "    print(f\"Males are performing better in {user_input}\")\n",
    "  "
   ]
  },
  {
   "cell_type": "code",
   "execution_count": 7,
   "metadata": {},
   "outputs": [],
   "source": [
    "test_yes = []\n",
    "test_no = []\n",
    "test_yes_m = []\n",
    "test_no_m = []\n",
    "\n",
    "test_yes_r = []\n",
    "test_no_r = []\n",
    "\n",
    "test_yes_w = []\n",
    "test_no_w = []\n",
    "\n",
    "\n",
    "for iteration in range(len(row2)):\n",
    "   if row2[iteration] == \"none\":\n",
    "     test_no.append(row2[iteration])\n",
    "     test_no_m.append(row3[iteration])\n",
    "     test_no_r.append(row4[iteration])\n",
    "     test_no_w.append(row5[iteration])\n",
    "\n",
    "   elif row2[iteration] == \"completed\":\n",
    "     test_yes.append(row2[iteration])\n",
    "     test_yes_m.append(row3[iteration])\n",
    "     test_yes_r.append(row4[iteration])\n",
    "     test_yes_w.append(row5[iteration])\n"
   ]
  },
  {
   "cell_type": "code",
   "execution_count": 8,
   "metadata": {},
   "outputs": [],
   "source": [
    "test_no_m = list(map(int, test_no_m))\n",
    "test_no_r = list(map(int, test_no_r))\n",
    "\n",
    "test_no_w = list(map(int, test_no_w))\n",
    "test_yes_m = list(map(int, test_yes_m))\n",
    "\n",
    "test_yes_r = list(map(int, test_yes_r))\n",
    "test_yes_w = list(map(int, test_yes_w))"
   ]
  },
  {
   "cell_type": "code",
   "execution_count": 9,
   "metadata": {},
   "outputs": [
    {
     "name": "stdout",
     "output_type": "stream",
     "text": [
      "Students that have test preparation courses are better at tests\n"
     ]
    }
   ],
   "source": [
    "average_test_y=sum(test_yes_m)/len(test_yes_m) + sum(test_yes_r)/len(test_yes_r) + sum(test_yes_w)/len(test_yes_w)\n",
    "average_test_n = sum(test_no_m)/len(test_no_m) + sum(test_no_r)/len(test_no_r) + sum(test_no_w)/len(test_no_w)\n",
    "\n",
    "if average_test_y >= average_test_n:\n",
    "  print(\"Students that have test preparation courses are better at tests\")\n",
    "\n",
    "else:\n",
    "    print(\"Students that do not have test preparation courses are better at tests\")"
   ]
  },
  {
   "cell_type": "code",
   "execution_count": 28,
   "metadata": {},
   "outputs": [],
   "source": [
    "bachelor = []\n",
    "college = []\n",
    "master = []\n",
    "associate = []\n",
    "high_school = []\n",
    "\n",
    "for edu in range(len(row1)):\n",
    "  if \"college\" in row1[edu]:\n",
    "    marks = [int(row3[edu]),int(row4[edu]),int(row5[edu])]\n",
    "    marks = sum(marks)/len(marks)\n",
    "    college.append(marks)\n",
    "  elif \"bachelor\" in row1[edu]:\n",
    "    marks = [int(row3[edu]),int(row4[edu]),int(row5[edu])]\n",
    "    marks = sum(marks)/len(marks)\n",
    "    bachelor.append(marks)\n",
    "  elif \"master\" in row1[edu]:\n",
    "    marks = [int(row3[edu]),int(row4[edu]),int(row5[edu])]\n",
    "    marks = sum(marks)/len(marks)\n",
    "    master.append(marks)\n",
    "  elif \"associate\" in row1[edu]:\n",
    "    marks = [int(row3[edu]),int(row4[edu]),int(row5[edu])]\n",
    "    marks = sum(marks)/len(marks)\n",
    "    associate.append(marks)\n",
    "  elif \"high school\" in row1[edu]:\n",
    "    marks = [int(row3[edu]),int(row4[edu]),int(row5[edu])]\n",
    "    marks = sum(marks)/len(marks)\n",
    "    high_school.append(marks)\n",
    "# print(bachelor,college,master,associate,high_school,sep='\\n')"
   ]
  },
  {
   "cell_type": "code",
   "execution_count": 30,
   "metadata": {},
   "outputs": [
    {
     "name": "stdout",
     "output_type": "stream",
     "text": [
      "Students having parents with masters education perform better than everyone else\n",
      "71.92372881355931 68.47640117994099 73.59887005649718 69.56906906906907 64.05688888888885\n"
     ]
    }
   ],
   "source": [
    "bachelor_average = sum(bachelor)/len(bachelor)\n",
    "college_average = sum(college)/len(college)\n",
    "master_average = sum(master)/len(master)\n",
    "associate_average = sum(associate)/len(associate)\n",
    "highschool_average = sum(high_school)/len(high_school)\n",
    "if master_average > bachelor_average:\n",
    "    if master_average > college_average:\n",
    "        if master_average > associate_average:\n",
    "            if master_average > highschool_average:\n",
    "                print(\"Students having parents with masters education perform better than everyone else\")\n",
    "            else:print(\"Students having parents with masters education perform better than most\")\n",
    "        else:print(\"Students having parents with masters education perform better than those having college level education\")\n",
    "    else:print(\"Students having parents with masters education perform better than those having bachelor level education\")\n",
    "\n",
    "\n",
    "                        \n",
    "\n",
    "\n",
    " \n",
    "print(bachelor_average,college_average,master_average,associate_average,highschool_average)"
   ]
  },
  {
   "cell_type": "code",
   "execution_count": 18,
   "metadata": {},
   "outputs": [
    {
     "name": "stdout",
     "output_type": "stream",
     "text": [
      "226 parents have a college degree,\n",
      "118 parents have a bachelor degree\n",
      "59 parents have a masters degree\n"
     ]
    }
   ],
   "source": [
    "bachelor = 0\n",
    "college = 0\n",
    "master = 0\n",
    "for edu in range(len(row1)):\n",
    "  if \"college\" in row1[edu]:\n",
    "    college += 1\n",
    "  elif \"bachelor\" in row1[edu]:\n",
    "    bachelor += 1\n",
    "  elif \"master\" in row1[edu]:\n",
    "    master += 1\n",
    "print(f\"{college} parents have a college degree,\\n{bachelor} parents have a bachelor degree\\n{master} parents have a masters degree\")"
   ]
  },
  {
   "cell_type": "code",
   "execution_count": 41,
   "metadata": {},
   "outputs": [
    {
     "name": "stdin",
     "output_type": "stream",
     "text": [
      "Enter course name write\n"
     ]
    },
    {
     "name": "stdout",
     "output_type": "stream",
     "text": [
      "Students having parents with masters education perform better than everyone else in write\n",
      "Students having parents with bachelor level education perform better than everyone else in write\n"
     ]
    }
   ],
   "source": [
    "name = input(\"Enter course name\")\n",
    "master_edu = []\n",
    "rest = []\n",
    "bachelor_edu = []\n",
    "rest1 = []\n",
    "\n",
    "for score in range(len(row)):\n",
    "    if \"master\" in row1[score]:\n",
    "        if name == \"math\":\n",
    "            master_edu.append(int(row3[score]))\n",
    "        elif name == \"read\":\n",
    "            master_edu.append(int(row4[score]))\n",
    "        elif name == \"write\":\n",
    "            master_edu.append(int(row5[score]))\n",
    "    else:\n",
    "        if name == \"math\":\n",
    "            rest.append(int(row3[score]))\n",
    "        elif name == \"read\":\n",
    "            rest.append(int(row4[score]))\n",
    "        elif name == \"write\":\n",
    "            rest.append(int(row5[score]))\n",
    "    if \"bachelor\" in row1[score]:\n",
    "        if name == \"math\":\n",
    "            bachelor_edu.append(int(row3[score]))\n",
    "        elif name == \"read\":\n",
    "            bachelor_edu.append(int(row4[score]))\n",
    "        elif name == \"write\":\n",
    "            bachelor_edu.append(int(row5[score]))\n",
    "    else:\n",
    "        if name == \"math\":\n",
    "            rest1.append(int(row3[score]))\n",
    "        elif name == \"read\":\n",
    "            rest1.append(int(row4[score]))\n",
    "        elif name == \"write\":\n",
    "            rest1.append(int(row5[score]))\n",
    "            \n",
    "master_edu_avg = sum(master_edu)/len(master_edu)\n",
    "bachelor_edu_avg = sum(bachelor_edu)/len(bachelor_edu)\n",
    "rest_avg = sum(rest)/len(rest)\n",
    "rest1_avg = sum(rest1)/len(rest1)\n",
    "\n",
    "if master_edu_avg > rest_avg:\n",
    "    print(f\"Students having parents with masters education perform better than everyone else in {name} on an average\")\n",
    "else:\n",
    "    print(\"There is no major difference\")\n",
    "if bachelor_edu_avg > rest1_avg:\n",
    "    print(f\"Students having parents with bachelor level education perform better than everyone else in {name} on an average\")\n",
    "else:\n",
    "    print(\"There is no major difference\")"
   ]
  },
  {
   "cell_type": "code",
   "execution_count": null,
   "metadata": {},
   "outputs": [],
   "source": []
  }
 ],
 "metadata": {
  "kernelspec": {
   "display_name": "Python 3",
   "language": "python",
   "name": "python3"
  },
  "language_info": {
   "codemirror_mode": {
    "name": "ipython",
    "version": 3
   },
   "file_extension": ".py",
   "mimetype": "text/x-python",
   "name": "python",
   "nbconvert_exporter": "python",
   "pygments_lexer": "ipython3",
   "version": "3.7.6"
  }
 },
 "nbformat": 4,
 "nbformat_minor": 4
}
