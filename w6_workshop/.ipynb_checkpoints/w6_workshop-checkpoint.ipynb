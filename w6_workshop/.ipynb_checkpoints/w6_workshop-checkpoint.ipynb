{
 "cells": [
  {
   "cell_type": "code",
   "execution_count": 1,
   "metadata": {},
   "outputs": [],
   "source": [
    "nestDic={\"key1\":{\"name\":\"Khuzaim\"},\"key10\":{\"key11\":\"Binary biatch\"},\"key100\":{\"key101\":\"Guessing\"}}"
   ]
  },
  {
   "cell_type": "code",
   "execution_count": 2,
   "metadata": {},
   "outputs": [
    {
     "name": "stdout",
     "output_type": "stream",
     "text": [
      "{'name': 'Khuzaim'}\n",
      "{'key11': 'Binary biatch'}\n",
      "{'key101': 'Guessing'}\n"
     ]
    }
   ],
   "source": [
    "for k in nestDic.keys():\n",
    "    print(nestDic[k])"
   ]
  },
  {
   "cell_type": "code",
   "execution_count": 3,
   "metadata": {},
   "outputs": [
    {
     "name": "stdout",
     "output_type": "stream",
     "text": [
      "{'name': 'Khuzaim'}\n",
      "{'key11': 'Binary biatch'}\n",
      "{'key101': 'Guessing'}\n"
     ]
    }
   ],
   "source": [
    "for v in nestDic.values():\n",
    "    print(v)"
   ]
  },
  {
   "cell_type": "code",
   "execution_count": 4,
   "metadata": {},
   "outputs": [
    {
     "name": "stdout",
     "output_type": "stream",
     "text": [
      "key1 {'name': 'Khuzaim'}\n",
      "key10 {'key11': 'Binary biatch'}\n",
      "key100 {'key101': 'Guessing'}\n"
     ]
    }
   ],
   "source": [
    "for k,v in nestDic.items():\n",
    "    print(k,v)"
   ]
  },
  {
   "cell_type": "code",
   "execution_count": 8,
   "metadata": {},
   "outputs": [
    {
     "name": "stdout",
     "output_type": "stream",
     "text": [
      "{'name': 'Khuzaim'}\n",
      "Khuzaim\n",
      "{'key11': 'Binary biatch'}\n",
      "Binary biatch\n",
      "{'key101': 'Guessing'}\n",
      "Guessing\n"
     ]
    }
   ],
   "source": [
    "for v in nestDic.values():\n",
    "    print(v)\n",
    "    for k2 in v.values():\n",
    "        print(k2)"
   ]
  },
  {
   "cell_type": "code",
   "execution_count": 9,
   "metadata": {},
   "outputs": [],
   "source": [
    "dic1 = {\"students\":[\"Khuzaim\",\"Khan\",\"Mudasir\",\"Hamza\",\"Ali\"],\"roll:Number\":[123,456,789,101,1234],\"age\":[19,19,20,21,22],\"course\":[\"AI&IOt\",\"AI and IOT\",\"IOT\",\"IOT\",\"AI\"]}"
   ]
  },
  {
   "cell_type": "code",
   "execution_count": 10,
   "metadata": {},
   "outputs": [],
   "source": [
    "import pandas as pd"
   ]
  },
  {
   "cell_type": "code",
   "execution_count": 11,
   "metadata": {},
   "outputs": [],
   "source": [
    "dataframe = pd.DataFrame(dic1)"
   ]
  },
  {
   "cell_type": "code",
   "execution_count": 12,
   "metadata": {},
   "outputs": [
    {
     "data": {
      "text/html": [
       "<div>\n",
       "<style scoped>\n",
       "    .dataframe tbody tr th:only-of-type {\n",
       "        vertical-align: middle;\n",
       "    }\n",
       "\n",
       "    .dataframe tbody tr th {\n",
       "        vertical-align: top;\n",
       "    }\n",
       "\n",
       "    .dataframe thead th {\n",
       "        text-align: right;\n",
       "    }\n",
       "</style>\n",
       "<table border=\"1\" class=\"dataframe\">\n",
       "  <thead>\n",
       "    <tr style=\"text-align: right;\">\n",
       "      <th></th>\n",
       "      <th>students</th>\n",
       "      <th>roll:Number</th>\n",
       "      <th>age</th>\n",
       "      <th>course</th>\n",
       "    </tr>\n",
       "  </thead>\n",
       "  <tbody>\n",
       "    <tr>\n",
       "      <th>0</th>\n",
       "      <td>Khuzaim</td>\n",
       "      <td>123</td>\n",
       "      <td>19</td>\n",
       "      <td>AI&amp;IOt</td>\n",
       "    </tr>\n",
       "    <tr>\n",
       "      <th>1</th>\n",
       "      <td>Khan</td>\n",
       "      <td>456</td>\n",
       "      <td>19</td>\n",
       "      <td>AI and IOT</td>\n",
       "    </tr>\n",
       "    <tr>\n",
       "      <th>2</th>\n",
       "      <td>Mudasir</td>\n",
       "      <td>789</td>\n",
       "      <td>20</td>\n",
       "      <td>IOT</td>\n",
       "    </tr>\n",
       "    <tr>\n",
       "      <th>3</th>\n",
       "      <td>Hamza</td>\n",
       "      <td>101</td>\n",
       "      <td>21</td>\n",
       "      <td>IOT</td>\n",
       "    </tr>\n",
       "    <tr>\n",
       "      <th>4</th>\n",
       "      <td>Ali</td>\n",
       "      <td>1234</td>\n",
       "      <td>22</td>\n",
       "      <td>AI</td>\n",
       "    </tr>\n",
       "  </tbody>\n",
       "</table>\n",
       "</div>"
      ],
      "text/plain": [
       "  students  roll:Number  age      course\n",
       "0  Khuzaim          123   19      AI&IOt\n",
       "1     Khan          456   19  AI and IOT\n",
       "2  Mudasir          789   20         IOT\n",
       "3    Hamza          101   21         IOT\n",
       "4      Ali         1234   22          AI"
      ]
     },
     "execution_count": 12,
     "metadata": {},
     "output_type": "execute_result"
    }
   ],
   "source": [
    "dataframe"
   ]
  },
  {
   "cell_type": "code",
   "execution_count": null,
   "metadata": {},
   "outputs": [],
   "source": []
  }
 ],
 "metadata": {
  "kernelspec": {
   "display_name": "Python 3",
   "language": "python",
   "name": "python3"
  },
  "language_info": {
   "codemirror_mode": {
    "name": "ipython",
    "version": 3
   },
   "file_extension": ".py",
   "mimetype": "text/x-python",
   "name": "python",
   "nbconvert_exporter": "python",
   "pygments_lexer": "ipython3",
   "version": "3.7.6"
  }
 },
 "nbformat": 4,
 "nbformat_minor": 4
}
